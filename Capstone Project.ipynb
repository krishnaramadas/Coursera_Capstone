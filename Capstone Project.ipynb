{
 "cells": [
  {
   "cell_type": "markdown",
   "metadata": {},
   "source": [
    "This Notebook is created mainly for the Capstone project work towards the completion of the IBM Data Science Professional Certicate Specialization."
   ]
  },
  {
   "cell_type": "code",
   "execution_count": 2,
   "metadata": {},
   "outputs": [
    {
     "name": "stdout",
     "output_type": "stream",
     "text": [
      "Hello Capstone Project Course\n"
     ]
    }
   ],
   "source": [
    "import pandas as pd\n",
    "import numpy as np\n",
    "print(\"Hello Capstone Project Course\")\n"
   ]
  },
  {
   "cell_type": "markdown",
   "metadata": {},
   "source": [
    "# Week 3"
   ]
  },
  {
   "cell_type": "markdown",
   "metadata": {},
   "source": [
    "#### To Web Scrape pandas read_html method is used. This method returns a list of all dataframe objects in the web page."
   ]
  },
  {
   "cell_type": "code",
   "execution_count": 3,
   "metadata": {},
   "outputs": [
    {
     "name": "stdout",
     "output_type": "stream",
     "text": [
      "Data downloaded!\n"
     ]
    },
    {
     "data": {
      "text/plain": [
       "[    Postcode           Borough  \\\n",
       " 0        M1A      Not assigned   \n",
       " 1        M2A      Not assigned   \n",
       " 2        M3A        North York   \n",
       " 3        M4A        North York   \n",
       " 4        M5A  Downtown Toronto   \n",
       " 5        M5A  Downtown Toronto   \n",
       " 6        M6A        North York   \n",
       " 7        M6A        North York   \n",
       " 8        M7A      Queen's Park   \n",
       " 9        M8A      Not assigned   \n",
       " 10       M9A         Etobicoke   \n",
       " 11       M1B       Scarborough   \n",
       " 12       M1B       Scarborough   \n",
       " 13       M2B      Not assigned   \n",
       " 14       M3B        North York   \n",
       " 15       M4B         East York   \n",
       " 16       M4B         East York   \n",
       " 17       M5B  Downtown Toronto   \n",
       " 18       M5B  Downtown Toronto   \n",
       " 19       M6B        North York   \n",
       " 20       M7B      Not assigned   \n",
       " 21       M8B      Not assigned   \n",
       " 22       M9B         Etobicoke   \n",
       " 23       M9B         Etobicoke   \n",
       " 24       M9B         Etobicoke   \n",
       " 25       M9B         Etobicoke   \n",
       " 26       M9B         Etobicoke   \n",
       " 27       M1C       Scarborough   \n",
       " 28       M1C       Scarborough   \n",
       " 29       M1C       Scarborough   \n",
       " ..       ...               ...   \n",
       " 258      M9X      Not assigned   \n",
       " 259      M1Y      Not assigned   \n",
       " 260      M2Y      Not assigned   \n",
       " 261      M3Y      Not assigned   \n",
       " 262      M4Y  Downtown Toronto   \n",
       " 263      M5Y      Not assigned   \n",
       " 264      M6Y      Not assigned   \n",
       " 265      M7Y      East Toronto   \n",
       " 266      M8Y         Etobicoke   \n",
       " 267      M8Y         Etobicoke   \n",
       " 268      M8Y         Etobicoke   \n",
       " 269      M8Y         Etobicoke   \n",
       " 270      M8Y         Etobicoke   \n",
       " 271      M8Y         Etobicoke   \n",
       " 272      M8Y         Etobicoke   \n",
       " 273      M8Y         Etobicoke   \n",
       " 274      M9Y      Not assigned   \n",
       " 275      M1Z      Not assigned   \n",
       " 276      M2Z      Not assigned   \n",
       " 277      M3Z      Not assigned   \n",
       " 278      M4Z      Not assigned   \n",
       " 279      M5Z      Not assigned   \n",
       " 280      M6Z      Not assigned   \n",
       " 281      M7Z      Not assigned   \n",
       " 282      M8Z         Etobicoke   \n",
       " 283      M8Z         Etobicoke   \n",
       " 284      M8Z         Etobicoke   \n",
       " 285      M8Z         Etobicoke   \n",
       " 286      M8Z         Etobicoke   \n",
       " 287      M9Z      Not assigned   \n",
       " \n",
       "                                          Neighbourhood  \n",
       " 0                                         Not assigned  \n",
       " 1                                         Not assigned  \n",
       " 2                                            Parkwoods  \n",
       " 3                                     Victoria Village  \n",
       " 4                                         Harbourfront  \n",
       " 5                                          Regent Park  \n",
       " 6                                     Lawrence Heights  \n",
       " 7                                       Lawrence Manor  \n",
       " 8                                         Not assigned  \n",
       " 9                                         Not assigned  \n",
       " 10                                    Islington Avenue  \n",
       " 11                                               Rouge  \n",
       " 12                                             Malvern  \n",
       " 13                                        Not assigned  \n",
       " 14                                     Don Mills North  \n",
       " 15                                    Woodbine Gardens  \n",
       " 16                                       Parkview Hill  \n",
       " 17                                             Ryerson  \n",
       " 18                                     Garden District  \n",
       " 19                                           Glencairn  \n",
       " 20                                        Not assigned  \n",
       " 21                                        Not assigned  \n",
       " 22                                          Cloverdale  \n",
       " 23                                           Islington  \n",
       " 24                                        Martin Grove  \n",
       " 25                                    Princess Gardens  \n",
       " 26                                     West Deane Park  \n",
       " 27                                      Highland Creek  \n",
       " 28                                          Rouge Hill  \n",
       " 29                                          Port Union  \n",
       " ..                                                 ...  \n",
       " 258                                       Not assigned  \n",
       " 259                                       Not assigned  \n",
       " 260                                       Not assigned  \n",
       " 261                                       Not assigned  \n",
       " 262                               Church and Wellesley  \n",
       " 263                                       Not assigned  \n",
       " 264                                       Not assigned  \n",
       " 265  Business Reply Mail Processing Centre 969 Eastern  \n",
       " 266                                         Humber Bay  \n",
       " 267                                   King's Mill Park  \n",
       " 268                           Kingsway Park South East  \n",
       " 269                                          Mimico NE  \n",
       " 270                                     Old Mill South  \n",
       " 271                                 The Queensway East  \n",
       " 272                              Royal York South East  \n",
       " 273                                           Sunnylea  \n",
       " 274                                       Not assigned  \n",
       " 275                                       Not assigned  \n",
       " 276                                       Not assigned  \n",
       " 277                                       Not assigned  \n",
       " 278                                       Not assigned  \n",
       " 279                                       Not assigned  \n",
       " 280                                       Not assigned  \n",
       " 281                                       Not assigned  \n",
       " 282                           Kingsway Park South West  \n",
       " 283                                          Mimico NW  \n",
       " 284                                 The Queensway West  \n",
       " 285                              Royal York South West  \n",
       " 286                                     South of Bloor  \n",
       " 287                                       Not assigned  \n",
       " \n",
       " [288 rows x 3 columns],\n",
       "                                           Unnamed: 0 Canadian postal codes  \\\n",
       " 0  NL NS PE NB QC ON MB SK AB BC NU/NT YT A B C E...                    NL   \n",
       " 1                                                 NL                    NS   \n",
       " 2                                                  A                     B   \n",
       " \n",
       "   Unnamed: 2 Unnamed: 3 Unnamed: 4 Unnamed: 5 Unnamed: 6 Unnamed: 7  \\\n",
       " 0         NS         PE         NB         QC         ON         MB   \n",
       " 1         PE         NB         QC         ON         MB         SK   \n",
       " 2          C          E          G          H          J          K   \n",
       " \n",
       "   Unnamed: 8 Unnamed: 9     ...     Unnamed: 21 Unnamed: 22 Unnamed: 23  \\\n",
       " 0         SK         AB     ...               L           M           N   \n",
       " 1         AB         BC     ...             NaN         NaN         NaN   \n",
       " 2          L          M     ...             NaN         NaN         NaN   \n",
       " \n",
       "   Unnamed: 24 Unnamed: 25 Unnamed: 26 Unnamed: 27 Unnamed: 28 Unnamed: 29  \\\n",
       " 0           P           R           S           T           V           X   \n",
       " 1         NaN         NaN         NaN         NaN         NaN         NaN   \n",
       " 2         NaN         NaN         NaN         NaN         NaN         NaN   \n",
       " \n",
       "   Unnamed: 30  \n",
       " 0           Y  \n",
       " 1         NaN  \n",
       " 2         NaN  \n",
       " \n",
       " [3 rows x 31 columns],\n",
       "   NL NS PE NB QC ON MB SK AB BC NU/NT YT Unnamed: 12 Unnamed: 13 Unnamed: 14  \\\n",
       " 0  A  B  C  E  G  H  J  K  L  M     N  P           R           S           T   \n",
       " \n",
       "   Unnamed: 15 Unnamed: 16 Unnamed: 17  \n",
       " 0           V           X           Y  ]"
      ]
     },
     "execution_count": 3,
     "metadata": {},
     "output_type": "execute_result"
    }
   ],
   "source": [
    "d=pd.read_html(r'http://en.wikipedia.org/wiki/List_of_postal_codes_of_Canada:_M', header=0) #to read in the html data\n",
    "print('Data downloaded!')\n",
    "d"
   ]
  },
  {
   "cell_type": "markdown",
   "metadata": {},
   "source": [
    "#### The required data is the first element of this list and this is used to make the dataframe"
   ]
  },
  {
   "cell_type": "code",
   "execution_count": 16,
   "metadata": {},
   "outputs": [
    {
     "data": {
      "text/html": [
       "<div>\n",
       "<style scoped>\n",
       "    .dataframe tbody tr th:only-of-type {\n",
       "        vertical-align: middle;\n",
       "    }\n",
       "\n",
       "    .dataframe tbody tr th {\n",
       "        vertical-align: top;\n",
       "    }\n",
       "\n",
       "    .dataframe thead th {\n",
       "        text-align: right;\n",
       "    }\n",
       "</style>\n",
       "<table border=\"1\" class=\"dataframe\">\n",
       "  <thead>\n",
       "    <tr style=\"text-align: right;\">\n",
       "      <th></th>\n",
       "      <th>Postcode</th>\n",
       "      <th>Borough</th>\n",
       "      <th>Neighbourhood</th>\n",
       "    </tr>\n",
       "  </thead>\n",
       "  <tbody>\n",
       "    <tr>\n",
       "      <th>0</th>\n",
       "      <td>M1A</td>\n",
       "      <td>Not assigned</td>\n",
       "      <td>Not assigned</td>\n",
       "    </tr>\n",
       "    <tr>\n",
       "      <th>1</th>\n",
       "      <td>M2A</td>\n",
       "      <td>Not assigned</td>\n",
       "      <td>Not assigned</td>\n",
       "    </tr>\n",
       "    <tr>\n",
       "      <th>2</th>\n",
       "      <td>M3A</td>\n",
       "      <td>North York</td>\n",
       "      <td>Parkwoods</td>\n",
       "    </tr>\n",
       "    <tr>\n",
       "      <th>3</th>\n",
       "      <td>M4A</td>\n",
       "      <td>North York</td>\n",
       "      <td>Victoria Village</td>\n",
       "    </tr>\n",
       "    <tr>\n",
       "      <th>4</th>\n",
       "      <td>M5A</td>\n",
       "      <td>Downtown Toronto</td>\n",
       "      <td>Harbourfront</td>\n",
       "    </tr>\n",
       "  </tbody>\n",
       "</table>\n",
       "</div>"
      ],
      "text/plain": [
       "  Postcode           Borough     Neighbourhood\n",
       "0      M1A      Not assigned      Not assigned\n",
       "1      M2A      Not assigned      Not assigned\n",
       "2      M3A        North York         Parkwoods\n",
       "3      M4A        North York  Victoria Village\n",
       "4      M5A  Downtown Toronto      Harbourfront"
      ]
     },
     "execution_count": 16,
     "metadata": {},
     "output_type": "execute_result"
    }
   ],
   "source": [
    "df=d[0]\n",
    "df.head()"
   ]
  },
  {
   "cell_type": "markdown",
   "metadata": {},
   "source": [
    "#### As we can see there are several \"Not Assigned\" Values for Boroughs which need to be ignored and is droppped using the drop() method"
   ]
  },
  {
   "cell_type": "code",
   "execution_count": 26,
   "metadata": {},
   "outputs": [
    {
     "data": {
      "text/html": [
       "<div>\n",
       "<style scoped>\n",
       "    .dataframe tbody tr th:only-of-type {\n",
       "        vertical-align: middle;\n",
       "    }\n",
       "\n",
       "    .dataframe tbody tr th {\n",
       "        vertical-align: top;\n",
       "    }\n",
       "\n",
       "    .dataframe thead th {\n",
       "        text-align: right;\n",
       "    }\n",
       "</style>\n",
       "<table border=\"1\" class=\"dataframe\">\n",
       "  <thead>\n",
       "    <tr style=\"text-align: right;\">\n",
       "      <th></th>\n",
       "      <th>Postcode</th>\n",
       "      <th>Borough</th>\n",
       "      <th>Neighbourhood</th>\n",
       "    </tr>\n",
       "  </thead>\n",
       "  <tbody>\n",
       "    <tr>\n",
       "      <th>2</th>\n",
       "      <td>M3A</td>\n",
       "      <td>North York</td>\n",
       "      <td>Parkwoods</td>\n",
       "    </tr>\n",
       "    <tr>\n",
       "      <th>3</th>\n",
       "      <td>M4A</td>\n",
       "      <td>North York</td>\n",
       "      <td>Victoria Village</td>\n",
       "    </tr>\n",
       "    <tr>\n",
       "      <th>4</th>\n",
       "      <td>M5A</td>\n",
       "      <td>Downtown Toronto</td>\n",
       "      <td>Harbourfront</td>\n",
       "    </tr>\n",
       "    <tr>\n",
       "      <th>5</th>\n",
       "      <td>M5A</td>\n",
       "      <td>Downtown Toronto</td>\n",
       "      <td>Regent Park</td>\n",
       "    </tr>\n",
       "    <tr>\n",
       "      <th>6</th>\n",
       "      <td>M6A</td>\n",
       "      <td>North York</td>\n",
       "      <td>Lawrence Heights</td>\n",
       "    </tr>\n",
       "  </tbody>\n",
       "</table>\n",
       "</div>"
      ],
      "text/plain": [
       "  Postcode           Borough     Neighbourhood\n",
       "2      M3A        North York         Parkwoods\n",
       "3      M4A        North York  Victoria Village\n",
       "4      M5A  Downtown Toronto      Harbourfront\n",
       "5      M5A  Downtown Toronto       Regent Park\n",
       "6      M6A        North York  Lawrence Heights"
      ]
     },
     "execution_count": 26,
     "metadata": {},
     "output_type": "execute_result"
    }
   ],
   "source": [
    "df.drop(df[df.Borough== \"Not assigned\"].index, inplace=True)\n",
    "df.head()"
   ]
  },
  {
   "cell_type": "markdown",
   "metadata": {},
   "source": [
    "#### More than one neighborhood can exist in one postal code area. These rows are combined into one row with the neighborhoods separated with a comma."
   ]
  },
  {
   "cell_type": "code",
   "execution_count": 41,
   "metadata": {},
   "outputs": [
    {
     "data": {
      "text/html": [
       "<div>\n",
       "<style scoped>\n",
       "    .dataframe tbody tr th:only-of-type {\n",
       "        vertical-align: middle;\n",
       "    }\n",
       "\n",
       "    .dataframe tbody tr th {\n",
       "        vertical-align: top;\n",
       "    }\n",
       "\n",
       "    .dataframe thead th {\n",
       "        text-align: right;\n",
       "    }\n",
       "</style>\n",
       "<table border=\"1\" class=\"dataframe\">\n",
       "  <thead>\n",
       "    <tr style=\"text-align: right;\">\n",
       "      <th></th>\n",
       "      <th>Postcode</th>\n",
       "      <th>Borough</th>\n",
       "      <th>Neighbourhood</th>\n",
       "    </tr>\n",
       "  </thead>\n",
       "  <tbody>\n",
       "    <tr>\n",
       "      <th>0</th>\n",
       "      <td>M1B</td>\n",
       "      <td>Scarborough</td>\n",
       "      <td>Rouge , Malvern</td>\n",
       "    </tr>\n",
       "    <tr>\n",
       "      <th>1</th>\n",
       "      <td>M1C</td>\n",
       "      <td>Scarborough</td>\n",
       "      <td>Highland Creek , Rouge Hill , Port Union</td>\n",
       "    </tr>\n",
       "    <tr>\n",
       "      <th>2</th>\n",
       "      <td>M1E</td>\n",
       "      <td>Scarborough</td>\n",
       "      <td>Guildwood , Morningside , West Hill</td>\n",
       "    </tr>\n",
       "    <tr>\n",
       "      <th>3</th>\n",
       "      <td>M1G</td>\n",
       "      <td>Scarborough</td>\n",
       "      <td>Woburn</td>\n",
       "    </tr>\n",
       "    <tr>\n",
       "      <th>4</th>\n",
       "      <td>M1H</td>\n",
       "      <td>Scarborough</td>\n",
       "      <td>Cedarbrae</td>\n",
       "    </tr>\n",
       "  </tbody>\n",
       "</table>\n",
       "</div>"
      ],
      "text/plain": [
       "  Postcode      Borough                             Neighbourhood\n",
       "0      M1B  Scarborough                           Rouge , Malvern\n",
       "1      M1C  Scarborough  Highland Creek , Rouge Hill , Port Union\n",
       "2      M1E  Scarborough       Guildwood , Morningside , West Hill\n",
       "3      M1G  Scarborough                                    Woburn\n",
       "4      M1H  Scarborough                                 Cedarbrae"
      ]
     },
     "execution_count": 41,
     "metadata": {},
     "output_type": "execute_result"
    }
   ],
   "source": [
    "data=df.groupby(['Postcode','Borough'])['Neighbourhood'].apply(' , '.join)\n",
    "data=data.reset_index()\n",
    "data.head()"
   ]
  },
  {
   "cell_type": "markdown",
   "metadata": {},
   "source": [
    "#### A new dataframe is created with combined rows. to know the dimensions of the new dataframe shape function is passed"
   ]
  },
  {
   "cell_type": "code",
   "execution_count": 44,
   "metadata": {},
   "outputs": [
    {
     "data": {
      "text/plain": [
       "(103, 3)"
      ]
     },
     "execution_count": 44,
     "metadata": {},
     "output_type": "execute_result"
    }
   ],
   "source": [
    "data.shape"
   ]
  },
  {
   "cell_type": "code",
   "execution_count": null,
   "metadata": {},
   "outputs": [],
   "source": []
  }
 ],
 "metadata": {
  "kernelspec": {
   "display_name": "Python 3",
   "language": "python",
   "name": "python3"
  },
  "language_info": {
   "codemirror_mode": {
    "name": "ipython",
    "version": 3
   },
   "file_extension": ".py",
   "mimetype": "text/x-python",
   "name": "python",
   "nbconvert_exporter": "python",
   "pygments_lexer": "ipython3",
   "version": "3.6.4"
  }
 },
 "nbformat": 4,
 "nbformat_minor": 4
}
